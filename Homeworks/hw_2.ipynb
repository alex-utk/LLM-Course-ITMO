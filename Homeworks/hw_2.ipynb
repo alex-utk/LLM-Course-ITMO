{
 "cells": [
  {
   "cell_type": "code",
   "execution_count": 2,
   "metadata": {},
   "outputs": [],
   "source": [
    "!pip install -qU gigachain==0.2.6 gigachain_community==0.2.6 gigachain-cli==0.0.25 langgraph==0.2.19 langchain-community==0.2.16 langchain-openai==0.1.23  python-pptx==0.6.23 python-pptx-interface==0.0.12 python-dotenv==1.0.1 duckduckgo-search==6.2.4 faiss-cpu"
   ]
  },
  {
   "cell_type": "code",
   "execution_count": 1,
   "metadata": {},
   "outputs": [
    {
     "name": "stderr",
     "output_type": "stream",
     "text": [
      "/mnt/88fdd009-dda3-49d8-9888-cfd9d9d5910a/ITMO/YEAR 2/INTRO_LLM/llm_venv/lib/python3.10/site-packages/urllib3/connectionpool.py:1099: InsecureRequestWarning: Unverified HTTPS request is being made to host 'ngw.devices.sberbank.ru'. Adding certificate verification is strongly advised. See: https://urllib3.readthedocs.io/en/latest/advanced-usage.html#tls-warnings\n",
      "  warnings.warn(\n"
     ]
    },
    {
     "data": {
      "text/plain": [
       "'eyJjdHkiOiJqd3QiLCJlbmMiOiJBMjU2Q0JDLUhTNTEyIiwiYWxnIjoiUlNBLU9BRVAtMjU2In0.LGNtNMBmWqfd5BwVy12FE12Rolst-9dANTNGLfvyaJmVMVO0sYXluhhJvz8c5fw1_qzEllTjy6aITPuo4R1xsB7eNwFG7vN7vssqJ32oMTCpcULXGNHZ24hk_2RsnHPSe9ojrQGj6pqrl9tBDBHEH9r94mdOC_meSBFMEPK2UgaYoc5OKGBndlGAIJMA45_ogDXgpoOMQHbcNpNhrcnRHhxoF8Bko89n0khnkE4KrFvJdfMdOUGKAag7CLCSjMntWx1dNCEx-s8iTLSCdSlhJft8kkO-M-ecpZH89ymtd7Ss4xL2QyCfdVNgPSpoGTz5vkWjl071vjWJ9D-Y4ajFbQ.oUe_7RCvpvOo8W5omGZUiQ.Xohag7r2jaB8vvRFXb6V7yO-74wTfiyjT1QziKow_8L6tmMNHwKLRyvCxQXy3Tquynf9V04YgG7kQRirP_Naid0_VhCdjB55yE0X9oDBlEiO0brfM2zBX_S4poyzyjuLLjrJE42DkL4oTSwIMFjg0Z_M-58BO4rmf-pIm_KvKm004o-rCBzsy5VoSoOBcKVbR1qyP2uwn4tOubcNAjXBd1i12vVsxfSsqwMmxVh12ybvw3CFNJVKPYrUqTjy-rR5X09ghUrrzpPClTWF9CXCuSs1a8TFrU28uWctwLGilx4RC2ZfY_nhPViGTGaXtpz4TnglArw1VXomu2s9BWxEM19Ch3DqATbWQemqV_AEsSFQMViFvn-kxzbxhZHMGa2cHSu5X8a9cjWSXkIRGL7b4zb_CL073-SI3SQVNcevmiheKQ1RcosuTicodG87WOY7j-dRc7rXhew8IcAbPsXrMcJcgzWqmRkz6vv4PYSxKZ8Usg68UE3SFHwDTnXz08B0HgwrDO1O1lDCE30tODLOPrWSlwRbqHjOYWRm-f5Pa0zgzxbKVQPg9moLcYnNXX2y2neITzNlshFgDMfJJNiaAV1jly6KCWsrgmYM2kaKxu0mIhcKgQS2rsPtH_wRnfD7onf2UlzjgHmQc7Kw6aUdRgrAs1qL8nFgPXNhB8--w5bU8JzJVKewJ1-okxff69CY0L3F-G-wpaAuTIfiAsigq83CZgo9M_oWF2OpwUwoaXY.UhMP5B2BsjZBT6Ddy6sn4S5s7Zh_aTnmGTzu5FdRH84'"
      ]
     },
     "execution_count": 1,
     "metadata": {},
     "output_type": "execute_result"
    }
   ],
   "source": [
    "import getpass\n",
    "import os\n",
    "import requests\n",
    "import json\n",
    "import time\n",
    "\n",
    "from langchain.chat_models.gigachat import GigaChat\n",
    "from langchain.memory import ConversationBufferMemory, ConversationBufferWindowMemory, ConversationSummaryMemory, VectorStoreRetrieverMemory\n",
    "from langchain.chains import ConversationChain\n",
    "from langchain_community.embeddings import GigaChatEmbeddings\n",
    "\n",
    "from langchain.schema import HumanMessage, SystemMessage\n",
    "from langchain.tools import tool\n",
    "\n",
    "import faiss\n",
    "from langchain_community.docstore import InMemoryDocstore\n",
    "from langchain_community.vectorstores import FAISS\n",
    "\n",
    "from pydantic import BaseModel\n",
    "\n",
    "from dotenv import load_dotenv\n",
    "from sber_utils import get_access_token\n",
    "from typing import Literal\n",
    "\n",
    "load_dotenv('.env')\n",
    "auth_token = get_access_token(os.environ.get(\"CLIENT_ID\"),\n",
    "                              os.environ.get(\"AUTH_KEY\"))\n",
    "auth_token"
   ]
  },
  {
   "cell_type": "markdown",
   "metadata": {},
   "source": [
    "# 1. Memory"
   ]
  },
  {
   "cell_type": "markdown",
   "metadata": {},
   "source": [
    "Define your own class implementing a simple LLM-based chatbot. You need to use at least three memory types (langchain.memory), which are set as one argument in the ```init``` definition. If the memory type has any parameters, you also need to define them as arguments in the ```init``` definition. You also need to define a ```run``` method implementing the main conversation loop, and a ```print_memory``` method to print out what exactly the memory consists of."
   ]
  },
  {
   "cell_type": "code",
   "execution_count": 13,
   "metadata": {},
   "outputs": [],
   "source": [
    "class SimpleChatBot:\n",
    "    def __init__(self, llm: GigaChat, memory_type: Literal['simple', 'window', 'summary'] = 'simple',\n",
    "                 **memory_kwargs: dict):\n",
    "        if memory_type == 'simple':\n",
    "            self.memory = ConversationBufferMemory()\n",
    "        elif memory_type == 'window':\n",
    "            self.memory = ConversationBufferWindowMemory(**memory_kwargs)\n",
    "        elif memory_type == 'summary':\n",
    "            self.memory = ConversationSummaryMemory(llm=llm, **memory_kwargs)\n",
    "        else:\n",
    "            raise ValueError('Wrong value for `memory_type` arg')\n",
    "        \n",
    "        self.conversation = ConversationChain(\n",
    "            llm=llm,\n",
    "            verbose=False,\n",
    "            memory=self.memory\n",
    "        )\n",
    " \n",
    "    def _respond(self, user_input):\n",
    "        return self.conversation.predict(input=user_input)\n",
    "    \n",
    "    def print_memory(self):\n",
    "        print(self.memory.load_memory_variables({}))\n",
    "\n",
    "    def run(self):\n",
    "        while True:\n",
    "            user_input = input('Введите сообщение:').strip()\n",
    "            if not user_input:\n",
    "                print(\"До свидания!\")\n",
    "                break\n",
    "            response = self._respond(user_input)\n",
    "            print(response)\n"
   ]
  },
  {
   "cell_type": "code",
   "execution_count": 19,
   "metadata": {},
   "outputs": [],
   "source": [
    "giga = GigaChat(access_token=auth_token, model=\"GigaChat\", timeout=30, verify_ssl_certs=False)"
   ]
  },
  {
   "cell_type": "markdown",
   "metadata": {},
   "source": [
    "Now let's check how it works with each type of memory"
   ]
  },
  {
   "cell_type": "code",
   "execution_count": 17,
   "metadata": {},
   "outputs": [
    {
     "name": "stdout",
     "output_type": "stream",
     "text": [
      "Здравствуйте! Мне очень приятно общаться с вами. К сожалению, я не имею физического тела и не могу есть, поэтому у меня нет любимого блюда. Но если бы я мог, то выбрал бы что-то изысканное и необычное, например, трюфели или фуа-гра. А какие у вас любимые сладости?\n",
      "До свидания!\n",
      "{'history': 'Человек приветствует AI и интересуется его любимым блюдом. AI отвечает, что, поскольку у него нет физического тела, у него нет любимого блюда, но если бы он мог есть, то выбрал бы трюфели или фуа-гра. Затем человек делится своими любимыми сладостями.'}\n"
     ]
    }
   ],
   "source": [
    "# giga_key = os.environ.get(\"SB_AUTH_DATA\")\n",
    "# giga = GigaChat(credentials=giga_key, model=\"GigaChat\", timeout=30, verify_ssl_certs=False)\n",
    "chat = SimpleChatBot(giga, 'summary', memory_window_size=5)\n",
    "chat.run()\n",
    "chat.print_memory()"
   ]
  },
  {
   "cell_type": "code",
   "execution_count": null,
   "metadata": {},
   "outputs": [],
   "source": [
    "chat = SimpleChatBot(giga, 'window', memory_window_size=2)\n",
    "chat.run()\n",
    "chat.print_memory()"
   ]
  },
  {
   "cell_type": "code",
   "execution_count": null,
   "metadata": {},
   "outputs": [],
   "source": [
    "chat = SimpleChatBot(giga, 'simple', memory_window_size=2)\n",
    "chat.run()\n",
    "chat.print_memory()"
   ]
  },
  {
   "cell_type": "markdown",
   "metadata": {},
   "source": [
    "Please make a short report abount differences between used memory types"
   ]
  },
  {
   "cell_type": "markdown",
   "metadata": {},
   "source": [
    "Report:"
   ]
  },
  {
   "cell_type": "markdown",
   "metadata": {},
   "source": [
    "# 2. Using tools and agents"
   ]
  },
  {
   "cell_type": "markdown",
   "metadata": {},
   "source": [
    "## 2.1 Using tools and API"
   ]
  },
  {
   "cell_type": "markdown",
   "metadata": {},
   "source": [
    "Create your own tool based on the langchain.tools library to interact with a public OpenWeather API. This tool will receive data from the API and return it as a readable result for the user.\n",
    "\n",
    "\n",
    "OpenWeather API URL: https://api.openweathermap.org/data/2.5/weather?q={city}&appid={openweather_key}&units=metric \n",
    "\n",
    "[How to get OpenWeather API key](https://docs.google.com/document/d/1vbi8QKqMZqZoCReIzpmEB_2mHsrbmXPlyGngE3jeDDw/edit)\n"
   ]
  },
  {
   "cell_type": "code",
   "execution_count": 31,
   "metadata": {},
   "outputs": [],
   "source": [
    "from langchain_core.pydantic_v1 import BaseModel, Field\n",
    "from typing import List, Optional\n",
    "\n",
    "from langchain.tools import tool\n",
    "from langchain.agents import AgentExecutor, create_gigachat_functions_agent\n",
    "from langchain.chat_models.gigachat import GigaChat\n",
    "from langchain.tools import Tool\n",
    "from langchain.agents import create_gigachat_functions_agent, AgentExecutor\n",
    "from langchain_core.pydantic_v1 import BaseModel, Field\n",
    "from langchain.schema import HumanMessage, SystemMessage, AIMessage\n",
    "from typing import Optional\n",
    "import requests\n",
    "\n",
    "openweather_key = os.environ.get(\"WEATHER_API_KEY\")\n",
    "\n",
    "few_shot_examples = [\n",
    "    {\n",
    "        \"request\": \"Какая погода сейчас в Ставрополе?\",\n",
    "        \"params\": {\"city_name\": \"Stavropol\"},\n",
    "    },\n",
    "    {\n",
    "        \"request\": \"Подскажи, сколько градусов в Лондоне?\",\n",
    "        \"params\": {\"city_name\": \"London\"},\n",
    "    },\n",
    "]\n",
    "\n",
    "class WeatherResult(BaseModel):\n",
    "    weather: str = Field(description=\"Current weather\", default='-')\n",
    "    weather_description: str = Field(description=\"Detailed description of current weather\", default='-')\n",
    "    temp: float = Field(description=\"Temerature value\", default=0)\n",
    "    pressure: float = Field(description=\"Atmospheric pressure\", default=0)\n",
    "    humidity: float = Field(description=\"Humidity level\", default=0)\n",
    "    wind_speed: float = Field(description=\"Wind speed\", default=0)\n",
    "    city_name: str = Field(description=\"City name\", default='-')\n",
    "    country: str = Field(description=\"Country name\", default='-')\n",
    "    status: str = Field(description=\"Response status\", default='-')\n",
    "\n",
    "\n",
    "@tool(few_shot_examples=few_shot_examples)\n",
    "def get_wheather(city_name: Optional[str] = Field(None, description=\"City name\")) -> WeatherResult:\n",
    "    \"\"\"Get current weather forecast for given city\"\"\"\n",
    "    params = {\n",
    "        'q': city_name,\n",
    "        'appid': os.environ.get(\"WEATHER_API_KEY\"),\n",
    "        'units': 'metric'\n",
    "    }\n",
    "    try:\n",
    "        response = requests.get(\"https://api.openweathermap.org/data/2.5/weather\", params=params)\n",
    "        response.raise_for_status()\n",
    "        response = response.json()\n",
    "        weather_full = ', '.join([res['main'] for res in response['weather']])\n",
    "        weather_description_full = ', '.join([res['description'] for res in response['weather']])\n",
    "        return WeatherResult(weather=weather_full,\n",
    "                             weather_description=weather_description_full,\n",
    "                             temp=response['main']['temp'],\n",
    "                             pressure=response['main']['pressure'],\n",
    "                             humidity=response['main']['humidity'],\n",
    "                             wind_speed=response['wind']['speed'],\n",
    "                             city_name=response['name'],\n",
    "                             country=response['sys']['country'],\n",
    "                             status='ok')\n",
    "    except Exception:\n",
    "        return WeatherResult(status=\"Error\")\n",
    "\n",
    "\n",
    "\n",
    "\n",
    "class OpenWeatherAPITool:\n",
    "    def __init__(self, llm, agent_function):\n",
    "        self.llm = llm\n",
    "        self.agent_function = agent_function\n",
    "        self.agent_executor = AgentExecutor(\n",
    "            agent=create_gigachat_functions_agent(self.llm, [agent_function]),\n",
    "            tools=[agent_function],\n",
    "            verbose=True,\n",
    "        )\n",
    "\n",
    "    def run(self, user_input: str):\n",
    "        chat_history = [\n",
    "            SystemMessage(content=\"You're a useful weather assistant. Follow the user's commands, tell about weather in city provided and give some advices.\")\n",
    "        ]\n",
    "        try:\n",
    "            result = self.agent_executor.invoke(\n",
    "                {\n",
    "                    \"chat_history\": chat_history,\n",
    "                    \"input\": user_input,\n",
    "                }\n",
    "            )\n",
    "            print(f\"Bot: {result['output']}\")\n",
    "        except Exception as e:\n",
    "            print(f\"Error: {str(e)}\")"
   ]
  },
  {
   "cell_type": "markdown",
   "metadata": {},
   "source": [
    "Let's check it"
   ]
  },
  {
   "cell_type": "code",
   "execution_count": 32,
   "metadata": {},
   "outputs": [
    {
     "name": "stderr",
     "output_type": "stream",
     "text": [
      "/mnt/88fdd009-dda3-49d8-9888-cfd9d9d5910a/ITMO/YEAR 2/INTRO_LLM/llm_venv/lib/python3.10/site-packages/urllib3/connectionpool.py:1099: InsecureRequestWarning: Unverified HTTPS request is being made to host 'ngw.devices.sberbank.ru'. Adding certificate verification is strongly advised. See: https://urllib3.readthedocs.io/en/latest/advanced-usage.html#tls-warnings\n",
      "  warnings.warn(\n"
     ]
    },
    {
     "name": "stdout",
     "output_type": "stream",
     "text": [
      "\n",
      "\n",
      "\u001b[1m> Entering new AgentExecutor chain...\u001b[0m\n",
      "\u001b[32;1m\u001b[1;3m\n",
      "Invoking: `get_wheather` with `{'city_name': 'Ставрополь'}`\n",
      "\n",
      "\n",
      "\u001b[0m\u001b[36;1m\u001b[1;3mweather='Clouds' weather_description='scattered clouds' temp=2.16 pressure=1024.0 humidity=93.0 wind_speed=2.0 city_name='Stavropol' country='RU' status='ok'\u001b[0m\u001b[32;1m\u001b[1;3mСейчас в Ставрополе облачно, местами видны рассеянные облака. Температура воздуха составляет +2°C. Атмосферное давление - 1024 гПа, влажность воздуха высокая - 93%. Ветер умеренный, около 2 м/с.\u001b[0m\n",
      "\n",
      "\u001b[1m> Finished chain.\u001b[0m\n",
      "Bot: Сейчас в Ставрополе облачно, местами видны рассеянные облака. Температура воздуха составляет +2°C. Атмосферное давление - 1024 гПа, влажность воздуха высокая - 93%. Ветер умеренный, около 2 м/с.\n"
     ]
    }
   ],
   "source": [
    "auth_token = get_access_token(os.environ.get(\"CLIENT_ID\"),\n",
    "                              os.environ.get(\"AUTH_KEY\"))\n",
    "giga_pro = GigaChat(access_token=auth_token, model=\"GigaChat-Pro\", timeout=30, verify_ssl_certs=False)\n",
    "\n",
    "openwheatertool = OpenWeatherAPITool(giga_pro, get_wheather)\n",
    "user_input = \"Какая погода сейчас в Ставрополе?\"\n",
    "openwheatertool.run(user_input)"
   ]
  },
  {
   "cell_type": "markdown",
   "metadata": {},
   "source": [
    "## 2.2. Multi agents"
   ]
  },
  {
   "cell_type": "markdown",
   "metadata": {},
   "source": [
    "Create a multi-agent system where each agent is responsible for a specific task in the travel planning process. For example, one agent is responsible for searching for flights, another for booking hotels, and a third for finding the weather at the destination.\n",
    "\n",
    "Requirements:\n",
    "\n",
    "- Use three or more GigaChat-based agents to interact with each other.\n",
    "- The first agent is responsible for searching for flights (using ```get_url_booking_tickets``` function).\n",
    "- The second agent is responsible for booking hotels (using ```get_url_booking_hotels``` function).\n",
    "- The third agent collects weather information for the destination (using a real API, such as OpenWeather). You can use the function from the previous task (for simplify, here you can give a current weather, not a forecast for the specific date)"
   ]
  },
  {
   "cell_type": "code",
   "execution_count": 23,
   "metadata": {},
   "outputs": [],
   "source": [
    "from langchain.tools import Tool\n",
    "from langchain.agents import create_gigachat_functions_agent, AgentExecutor\n",
    "from langchain_core.prompts import ChatPromptTemplate, MessagesPlaceholder\n",
    "import requests\n",
    "import json\n",
    "import datetime\n",
    "from dateutil import parser\n",
    "\n",
    "openweather_key = os.environ.get(\"OPENWEATHER_API_KEY\")\n",
    "\n",
    "def get_geoid(city: str) -> str:\n",
    "    url_base = 'https://suggest-maps.yandex.ru/suggest-geo'\n",
    "    params = {'search_type': 'tune', 'v': '9', 'results': 1, 'lang': 'ry_RU', 'callback': 'json'}\n",
    "    params['part'] = city\n",
    "    r = requests.get(url_base, params=params)\n",
    "    if r.ok:\n",
    "        r_text = r.text\n",
    "        r_json = r_text[5: len(r_text)-1]\n",
    "        res_json = json.loads(r_json)\n",
    "        res = res_json['results'][0]['geoid']\n",
    "    else:\n",
    "        res = ''\n",
    "    return str(res)\n",
    "\n",
    "\n",
    "#TODO\n",
    "def get_url_booking_hotels(date_in_str: str, date_out_str: str, city: str) -> str:\n",
    "    #TODO\n",
    "    date_in = parser.parse(date_in_str)\n",
    "    date_out = parser.parse(date_out_str)\n",
    "    if date_in is None:\n",
    "        date_in = datetime.datetime.now()\n",
    "    if date_out is None:\n",
    "        date_out = datetime.datetime.now() + datetime.timedelta(days=1)\n",
    "    geoid = get_geoid(city)\n",
    "    url = 'https://travel.yandex.ru/hotels/search/?' \n",
    "    params = {'adults': '2', 'checkinDate': date_in.strftime('%Y-%m-%d'), 'checkoutDate': date_out.strftime('%Y-%m-%d'), 'childrenAges': '0', 'geoId': geoid}\n",
    "    for item in params:\n",
    "        url += '&' + item + '=' + params[item]\n",
    "    return f'Here is your URL for booking: {url} in {city} on {date_in_str} / {date_out_str}'\n",
    "\n",
    "\n",
    "#TODO\n",
    "def get_url_booking_tikets(city_from: str, city_to: str, date_in_str: str, date_out_str: str) -> str:\n",
    "    #TODO\n",
    "    date_in = parser.parse(date_in_str)\n",
    "    date_out = parser.parse(date_out_str)\n",
    "    if date_in is None:\n",
    "        date_in = datetime.datetime.now()\n",
    "    if date_out is None:\n",
    "        date_out = datetime.datetime.now() + datetime.timedelta(days=1)\n",
    "    fromid = get_geoid(city_from)\n",
    "    toid = get_geoid(city_to)\n",
    "    url = 'https://travel.yandex.ru/avia/search/result/?' \n",
    "    params = {'adults_seats': '2', 'fromId': 'c' + fromid, 'klass': 'economy', 'oneway': '2', 'return_date': date_out.strftime('%Y-%m-%d'), 'toId': 'c' + toid, 'when': date_in.strftime('%Y-%m-%d')}\n",
    "    for item in params:\n",
    "        url += '&' + item + '=' + params[item]\n",
    "    return f'Here is your url for tickets ordering: {url} from {city_from} to {city_to} on {date_in_str} / {date_out_str}'\n",
    "\n",
    "\n",
    "\n",
    "class MultiAgent:\n",
    "    def __init__(self, llm, agent_function_wheater, agent_function_hotels, agent_function_tickets):\n",
    "        self.llm = llm\n",
    "        self.agent_function_wheater = agent_function_wheater\n",
    "        self.agent_function_hotels = agent_function_hotels\n",
    "        self.agent_function_tickets = agent_function_tickets\n",
    "\n",
    "    def _create_agent(self, tools, system_prompt):\n",
    "        #TODO\n",
    "        return AgentExecutor\n",
    "\n",
    "    def run(self, user_input: str):\n",
    "        #TODO\n",
    "        return answer\n"
   ]
  },
  {
   "cell_type": "code",
   "execution_count": 24,
   "metadata": {},
   "outputs": [
    {
     "name": "stdout",
     "output_type": "stream",
     "text": [
      "Организуй поездку в Санкт-Петербурге на 10 дней с 15.11.2024 - отель, самолет, погода\n",
      "Вот Ваша ссылка для бронирования отеля: [https://travel.yandex.ru/hotels/search/?&adults=2&checkinDate=2024-11-15&checkoutDate=2024-11-24&childrenAges=0&geoId=2](https://travel.yandex.ru/hotels/search/?&adults=2&checkinDate=2024-11-15&checkoutDate=2024-11-24&childrenAges=0&geoId=2) в Санкт-Петербурге с 15 по 24 ноября 2024 года.\n",
      "Вот Ваша ссылка для заказа билетов: https://travel.yandex.ru/avia/search/result/?&adults_seats=2&fromId=c213&klass=economy&oneway=2&return_date=2024-11-24&toId=c2&when=2024-11-15 от Москвы до Санкт-Петербурга на 15.11.2024 / 24.11.2024.\n",
      "Погода в Санкт-Петербурге сейчас облачная с температурой 8.92°C.\n"
     ]
    }
   ],
   "source": [
    "giga_key = os.environ.get(\"SB_AUTH_DATA\")\n",
    "giga_pro = GigaChat(credentials=giga_key, model=\"GigaChat-Pro\", timeout=30, verify_ssl_certs=False)\n",
    "\n",
    "traveler = MultiAgent(giga_pro, get_wheather, get_url_booking_hotels, get_url_booking_tikets)\n",
    "user_input = \"Организуй поездку в Санкт-Петербурге на 10 дней с 15.11.2024 - отель, самолет, погода\"\n",
    "answer = traveler.run(user_input)\n",
    "print(answer)"
   ]
  }
 ],
 "metadata": {
  "kernelspec": {
   "display_name": "llm_venv",
   "language": "python",
   "name": "python3"
  },
  "language_info": {
   "codemirror_mode": {
    "name": "ipython",
    "version": 3
   },
   "file_extension": ".py",
   "mimetype": "text/x-python",
   "name": "python",
   "nbconvert_exporter": "python",
   "pygments_lexer": "ipython3",
   "version": "3.10.12"
  }
 },
 "nbformat": 4,
 "nbformat_minor": 2
}
